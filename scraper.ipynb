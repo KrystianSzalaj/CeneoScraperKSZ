{
 "cells": [
  {
   "attachments": {},
   "cell_type": "markdown",
   "metadata": {},
   "source": [
    "# Ceneo scraper"
   ]
  },
  {
   "attachments": {},
   "cell_type": "markdown",
   "metadata": {},
   "source": [
    "# Biblioteki"
   ]
  },
  {
   "cell_type": "code",
   "execution_count": 159,
   "metadata": {},
   "outputs": [],
   "source": [
    "import os\n",
    "import json\n",
    "import requests\n",
    "from bs4 import BeautifulSoup"
   ]
  },
  {
   "attachments": {},
   "cell_type": "markdown",
   "metadata": {},
   "source": [
    "# Wysyłanie do serwera żądania dostępu do zasobu"
   ]
  },
  {
   "cell_type": "code",
   "execution_count": 160,
   "metadata": {},
   "outputs": [],
   "source": [
    "product_id = \"120498791\"\n",
    "url =  f\"https://www.ceneo.pl/{product_id}#tab=reviews_scroll\"\n",
    "response = requests.get(url)"
   ]
  },
  {
   "attachments": {},
   "cell_type": "markdown",
   "metadata": {},
   "source": []
  },
  {
   "cell_type": "code",
   "execution_count": 161,
   "metadata": {},
   "outputs": [],
   "source": [
    "all_opinions=[]\n",
    "while(url):\n",
    "    response = requests.get(url)\n",
    "    page_dom = BeautifulSoup(response.text, \"html.parser\")\n",
    "    opinions = page_dom.select(\"div.js_product-review\")\n",
    "    for opinion in opinions:\n",
    "        try:\n",
    "            single_opinion = {\n",
    "                \"opinion_id\" : opinion[\"data-entry-id\"],\n",
    "                \"author\" : opinion.select_one(\"span.user-post__author-name\").text.strip(),\n",
    "                \"recomendation\" : opinion.select_one(\"span.user-post__author-recomendation > em\").text.strip(),\n",
    "                \"rating\" : opinion.select_one(\"span.user-post__score-count\").text.strip(),\n",
    "                \"content\" : opinion.select_one(\"div.user-post__text\").text.strip(),\n",
    "                \"pros\" : [p.text.strip() for p in opinion.select(\"div.review-feature__title--positives ~ div.review-feature_item\")],\n",
    "                \"cons\" : [c.text.strip() for c in opinion.select(\"div.review-feature__title--negatives ~ div.review-feature_item\")],\n",
    "                \"useful\" : opinion.select_one(\"button.vote-yes > span\").text.strip(),\n",
    "                \"useless\" : opinion.select_one(\"button.vote-no > span\").text.strip(),\n",
    "                \"publish_date\" : opinion.select_one(\"span.user-post__published > time:nth-child(1)\")['datetime'].strip(),\n",
    "                \"purchase_date\" : opinion.select_one(\"span.user-post__published > time:nth-child(2)\")['datetime'].strip()\n",
    "            }\n",
    "            all_opinions.append(single_opinion)\n",
    "        except (TypeError,AttributeError):\n",
    "            pass\n",
    "    try:\n",
    "        url = \"https://www.ceneo.pl\" + page_dom.select_one(\"a.pagination__next\")[\"href\"].strip()\n",
    "    except TypeError:\n",
    "        url = None\n"
   ]
  },
  {
   "attachments": {},
   "cell_type": "markdown",
   "metadata": {},
   "source": [
    "# Ekstrakcja składowych pojedyńczej opinii\n",
    "|składowa|selektor|zmienna|\n",
    "|--------|--------|-------|\n",
    "|id opinii|[\"data-entry-id\"]|opinion_id|\n",
    "|autor|span.user-post__author-name|author|\n",
    "|rekomendacja|span.user-post__author-recomendation > em|recomendation|\n",
    "|gwiazdki|span.user-post__score-count|rating|\n",
    "|treść|div.user-post__text|content|\n",
    "|lista zalet|div.review-feature__title--positives ~ div.review-feature_item|pros|\n",
    "|lista wad|div.review-feature__title--negatives ~ div.review-feature_item|cons|\n",
    "|dla ilu przydatna|button.vote-yes > span|useful|\n",
    "|dla ilu nieprzydatna|button.vote-no > span|useless|\n",
    "|data wstawienia|span.user-post__published > time:nth-child(1)[\"datetime\"]|publish_date|\n",
    "|data zakupu|span.user-post__published > time:nth-child(2)[\"datetime\"]|purchase_date|\n"
   ]
  },
  {
   "cell_type": "code",
   "execution_count": 162,
   "metadata": {},
   "outputs": [],
   "source": [
    "if not os.path.exists(\"opinions\"):\n",
    "    os.mkdir(\"opinions\")\n",
    "with open(\"opinions/{opinion_id}.json\", \"w\", encoding=\"UTF-8\") as jf:\n",
    "    json.dump(all_opinions,jf, indent=4, ensure_ascii=False)\n"
   ]
  },
  {
   "cell_type": "code",
   "execution_count": 163,
   "metadata": {},
   "outputs": [
    {
     "data": {
      "text/plain": [
       "27"
      ]
     },
     "execution_count": 163,
     "metadata": {},
     "output_type": "execute_result"
    }
   ],
   "source": [
    "len(all_opinions)\n",
    "\n"
   ]
  }
 ],
 "metadata": {
  "kernelspec": {
   "display_name": ".venv",
   "language": "python",
   "name": "python3"
  },
  "language_info": {
   "codemirror_mode": {
    "name": "ipython",
    "version": 3
   },
   "file_extension": ".py",
   "mimetype": "text/x-python",
   "name": "python",
   "nbconvert_exporter": "python",
   "pygments_lexer": "ipython3",
   "version": "3.11.4"
  },
  "orig_nbformat": 4
 },
 "nbformat": 4,
 "nbformat_minor": 2
}
